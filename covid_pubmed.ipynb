{
 "metadata": {
  "language_info": {
   "codemirror_mode": {
    "name": "ipython",
    "version": 3
   },
   "file_extension": ".py",
   "mimetype": "text/x-python",
   "name": "python",
   "nbconvert_exporter": "python",
   "pygments_lexer": "ipython3",
   "version": "3.8.10"
  },
  "orig_nbformat": 4,
  "kernelspec": {
   "name": "python3",
   "display_name": "Python 3.8.10 64-bit ('dsenv': conda)"
  },
  "interpreter": {
   "hash": "030d2346a7f706017e5d4c21a170d54e495fd688dbb7b64bdfc37e4e812499bb"
  }
 },
 "nbformat": 4,
 "nbformat_minor": 2,
 "cells": [
  {
   "cell_type": "markdown",
   "source": [
    "# Analyze Covid-19 literature\n",
    "\n",
    "Pubmed is a free search engine accessing primarily the MEDLINE database of references and abstracts on life sciences and biomedical topics.  A simple search for 'covid-19' on pubmed resulted in 156,871 citations, an impossible number of papers for anyone to seep through.  I set out to see whether I can get some kind of understanding of the trend in the literature using natural language processing.  \n",
    "\n",
    "Data were downloaded from https://ftp.ncbi.nlm.nih.gov/pub/lu/LitCovid/topic_tagger/."
   ],
   "metadata": {}
  },
  {
   "cell_type": "markdown",
   "source": [
    "### <b>1.  Read data"
   ],
   "metadata": {}
  },
  {
   "cell_type": "code",
   "execution_count": 1,
   "source": [
    "# Import libraies\n",
    "import nltk, pandas as pd, numpy as np, matplotlib.pyplot as plt, datetime as dt, re, random, pickle\n",
    "from nltk.corpus import stopwords\n",
    "from nltk.tokenize import word_tokenize, sent_tokenize\n",
    "from wordcloud import WordCloud\n",
    "from sklearn.feature_extraction.text import CountVectorizer\n",
    "from sklearn.decomposition import LatentDirichletAllocation\n",
    "%matplotlib inline\n",
    "\n",
    "# get stop words\n",
    "stopwords = set(stopwords.words('english'))\n",
    "\n",
    "# downloaded data from pubmed\n",
    "df1 = pd.read_csv('covid19-train.csv')\n",
    "df2 = pd.read_csv('covid19-test.csv')\n",
    "df3 = pd.read_csv('covid19-valid.csv')\n",
    "\n",
    "print('df1.shape: ', df1.shape)\n",
    "print('df2.shape: ', df2.shape)\n",
    "print('df3.shape: ', df3.shape)"
   ],
   "outputs": [
    {
     "output_type": "stream",
     "name": "stdout",
     "text": [
      "df1.shape:  (52419, 12)\n",
      "df2.shape:  (8226, 11)\n",
      "df3.shape:  (6582, 11)\n"
     ]
    }
   ],
   "metadata": {}
  },
  {
   "cell_type": "code",
   "execution_count": 99,
   "source": [
    "# combine data\n",
    "\n",
    "df = [df1,df2,df3]\n",
    "df = pd.concat(df)\n",
    "df.shape"
   ],
   "outputs": [
    {
     "output_type": "execute_result",
     "data": {
      "text/plain": [
       "(67227, 12)"
      ]
     },
     "metadata": {},
     "execution_count": 99
    }
   ],
   "metadata": {}
  },
  {
   "cell_type": "markdown",
   "source": [
    "### <b>2.1 Clean data -  intial cleaning"
   ],
   "metadata": {}
  },
  {
   "cell_type": "code",
   "execution_count": 45,
   "source": [
    "# inspect the complete dataframe\n",
    "\n",
    "df.info()"
   ],
   "outputs": [
    {
     "output_type": "stream",
     "name": "stdout",
     "text": [
      "<class 'pandas.core.frame.DataFrame'>\n",
      "Int64Index: 67227 entries, 0 to 6581\n",
      "Data columns (total 12 columns):\n",
      " #   Column          Non-Null Count  Dtype  \n",
      "---  ------          --------------  -----  \n",
      " 0   pmid            67227 non-null  int64  \n",
      " 1   journal         67226 non-null  object \n",
      " 2   title           67226 non-null  object \n",
      " 3   abstract        46308 non-null  object \n",
      " 4   keywords        38813 non-null  object \n",
      " 5   label           53535 non-null  object \n",
      " 6   pub_type        67224 non-null  object \n",
      " 7   authors         66593 non-null  object \n",
      " 8   date1           0 non-null      float64\n",
      " 9   doi             65690 non-null  object \n",
      " 10  date2           67227 non-null  object \n",
      " 11  label_category  52419 non-null  object \n",
      "dtypes: float64(1), int64(1), object(10)\n",
      "memory usage: 6.7+ MB\n"
     ]
    }
   ],
   "metadata": {}
  },
  {
   "cell_type": "code",
   "execution_count": 101,
   "source": [
    "# select only abstracts for the initial analysis\n",
    "\n",
    "dfa = df[['pmid', 'abstract', 'date2']]\n",
    "dfa.columns = ['pmid','abstract', 'date']\n",
    "dfa.info()"
   ],
   "outputs": [
    {
     "output_type": "stream",
     "name": "stdout",
     "text": [
      "<class 'pandas.core.frame.DataFrame'>\n",
      "Int64Index: 67227 entries, 0 to 6581\n",
      "Data columns (total 3 columns):\n",
      " #   Column    Non-Null Count  Dtype \n",
      "---  ------    --------------  ----- \n",
      " 0   pmid      67227 non-null  int64 \n",
      " 1   abstract  46308 non-null  object\n",
      " 2   date      67227 non-null  object\n",
      "dtypes: int64(1), object(2)\n",
      "memory usage: 2.1+ MB\n"
     ]
    }
   ],
   "metadata": {}
  },
  {
   "cell_type": "code",
   "execution_count": 102,
   "source": [
    "# remove null values and potential duplicates. \n",
    "\n",
    "dfa = dfa.dropna()\n",
    "print(dfa.shape)\n",
    "dfa = dfa.drop_duplicates()\n",
    "print(dfa.shape)"
   ],
   "outputs": [
    {
     "output_type": "stream",
     "name": "stdout",
     "text": [
      "(46308, 3)\n",
      "(46308, 3)\n"
     ]
    }
   ],
   "metadata": {}
  },
  {
   "cell_type": "code",
   "execution_count": 48,
   "source": [
    "# check for potential short, unsable abstract. based on visual inspection, 50 word threshood is choosen.  \n",
    "\n",
    "sorted([x for x in dfa.abstract if len(x) < 50])"
   ],
   "outputs": [
    {
     "output_type": "execute_result",
     "data": {
      "text/plain": [
       "['.',\n",
       " '.',\n",
       " '.',\n",
       " '.',\n",
       " '.',\n",
       " '.',\n",
       " '.',\n",
       " '.',\n",
       " '.',\n",
       " '...',\n",
       " 'Abstract:',\n",
       " 'Abstract:',\n",
       " 'Abstract:',\n",
       " 'Abstract:',\n",
       " 'Abstract:',\n",
       " 'Abstract:',\n",
       " 'Abstract:',\n",
       " 'Abstract:',\n",
       " 'Ahead of Print article withdrawn by publisher.',\n",
       " 'Ahead of Print article withdrawn by publisher.',\n",
       " 'COVID-19 exposes ongoing risks to residents.',\n",
       " 'COVID-19 has become pandemic [...].',\n",
       " 'Calder et al [...].',\n",
       " 'Click here to listen to the Podcast.',\n",
       " 'Communicated by Ramaswamy H. Sarma.',\n",
       " 'Communicated by Ramaswamy H. Sarma.',\n",
       " 'Complete Table Top Exercise Manual.',\n",
       " 'Due to an error during production, Dr [...].',\n",
       " 'EDITORIAL.',\n",
       " 'EDITORIAL.',\n",
       " 'Editorial of vol. 32-2.',\n",
       " 'Editorial.',\n",
       " 'Editorial.',\n",
       " 'Editorial.',\n",
       " 'Graphical Abstract.',\n",
       " 'Graphical Abstract.',\n",
       " 'Graphical abstract.',\n",
       " 'Hope for the future of global health.',\n",
       " 'INTRODUCTION: METHODS: RESULTS: CONCLUSIONS:',\n",
       " 'INTRODUCTION: METHODS: RESULTS: CONCLUSIONS:',\n",
       " 'Image 1.',\n",
       " 'Introduction:',\n",
       " 'Letter to the Editor.',\n",
       " 'Medicaid coverage is an option in some states.',\n",
       " 'Melancholy in the elderly in times of COVID-19.',\n",
       " 'Missing (Commentary).',\n",
       " 'N/A - Letter to the Editor.',\n",
       " 'N/A.',\n",
       " 'N/A.',\n",
       " 'N/A.',\n",
       " 'NA.',\n",
       " 'NA.',\n",
       " 'NA.',\n",
       " 'NA.',\n",
       " 'No Abstract Available.',\n",
       " 'No Abstract Available.',\n",
       " 'No Abstract Available.',\n",
       " 'No Abstract Available.',\n",
       " 'No Abstract Available.',\n",
       " 'No Abstract.',\n",
       " 'No Abstract.',\n",
       " 'No Abstract.',\n",
       " 'No abstract available.',\n",
       " 'No abstract available.',\n",
       " 'No abstract available.',\n",
       " 'No abstract available.',\n",
       " 'No abstract available.',\n",
       " 'No abstract available.',\n",
       " 'No abstract provided.',\n",
       " 'No abstract provided.',\n",
       " 'No abstract provided.',\n",
       " 'No abstract provided.',\n",
       " 'No abstract provided.',\n",
       " 'No abstract provided.',\n",
       " 'No abstract provided.',\n",
       " 'No abstract!',\n",
       " 'No abstract.',\n",
       " 'No abstract.',\n",
       " 'No abstract.',\n",
       " 'No abstract.',\n",
       " 'No need for letter to the editor.',\n",
       " 'None.',\n",
       " 'Not Available.',\n",
       " 'Not applicable for Editorials.',\n",
       " 'Not applicable.',\n",
       " 'Not available.',\n",
       " 'Not available.',\n",
       " 'Not available.',\n",
       " 'Not available.',\n",
       " 'Not available.',\n",
       " 'Not available.',\n",
       " 'Not available.',\n",
       " 'Not availble.',\n",
       " 'Not required.',\n",
       " 'Not required.',\n",
       " 'Null.',\n",
       " 'Null.',\n",
       " 'Null.',\n",
       " 'Null.',\n",
       " 'Null.',\n",
       " 'Null.',\n",
       " 'Null.',\n",
       " 'Null.',\n",
       " 'Null.',\n",
       " 'Null.',\n",
       " 'Null.',\n",
       " 'Null.',\n",
       " 'Null.',\n",
       " 'Null.',\n",
       " 'Null.',\n",
       " 'Null.',\n",
       " 'Null.',\n",
       " 'Null.',\n",
       " 'Null.',\n",
       " 'Null.',\n",
       " 'Null.',\n",
       " 'Null.',\n",
       " 'Null.',\n",
       " 'Null.',\n",
       " 'Null.',\n",
       " 'Null.',\n",
       " 'Null.',\n",
       " 'Null.',\n",
       " 'Null.',\n",
       " 'Patrick Ball explains the SIR model.',\n",
       " 'Probably it does.',\n",
       " 'Rushed publication comes with risk.',\n",
       " 'The authors regret a mistake in Table 1.',\n",
       " 'The correct caption is given below.',\n",
       " 'The corrected legend is given below.',\n",
       " 'The effects of COVID-19 are still unfolding.',\n",
       " 'The novel coronavirus (COVID-19) pandemic, [...].',\n",
       " 'The original article can be found online.',\n",
       " 'The original article can be found online.',\n",
       " 'There is no abstract.',\n",
       " 'Updates on the coronavirus.',\n",
       " 'We thank Costa-Santos C [...].',\n",
       " 'We thank Dr [...].',\n",
       " 'What can we take away from this year?',\n",
       " '[Figure: see text].',\n",
       " '[Figure: see text].',\n",
       " '[Figure: see text].',\n",
       " '[Figure: see text].',\n",
       " '[This corrects the article DOI: 10.2196/18807.].',\n",
       " '[This corrects the article DOI: 10.2196/19170.].',\n",
       " '[This corrects the article DOI: 10.2196/19424.].',\n",
       " '[This corrects the article DOI: 10.2196/20285.].',\n",
       " '[This corrects the article DOI: 10.5334/gh.823.].',\n",
       " 'is missing (Short communication).',\n",
       " 'letter without abstract.',\n",
       " 'no abstract.',\n",
       " 'none.',\n",
       " 'not available.',\n",
       " 'not available.',\n",
       " 'not available.',\n",
       " 'not available.',\n",
       " 'not available.']"
      ]
     },
     "metadata": {},
     "execution_count": 48
    }
   ],
   "metadata": {}
  },
  {
   "cell_type": "code",
   "execution_count": 7,
   "source": [
    "# remove abstracts with length less than 50 characters.\n",
    "\n",
    "dfa = dfa[dfa.abstract.apply(lambda x: len(x) >= 50)]\n",
    "dfa.info()"
   ],
   "outputs": [
    {
     "output_type": "stream",
     "name": "stdout",
     "text": [
      "<class 'pandas.core.frame.DataFrame'>\n",
      "Int64Index: 46151 entries, 0 to 6581\n",
      "Data columns (total 3 columns):\n",
      " #   Column    Non-Null Count  Dtype \n",
      "---  ------    --------------  ----- \n",
      " 0   pmid      46151 non-null  int64 \n",
      " 1   abstract  46151 non-null  object\n",
      " 2   date      46151 non-null  object\n",
      "dtypes: int64(1), object(2)\n",
      "memory usage: 1.4+ MB\n"
     ]
    }
   ],
   "metadata": {}
  },
  {
   "cell_type": "code",
   "execution_count": 8,
   "source": [
    "# change the date coloumn to datetime format\n",
    "\n",
    "pd.to_datetime(dfa.date, infer_datetime_format=True)\n",
    "print(f'Data are selected between {dfa.date.min()} and {dfa.date.max()}')"
   ],
   "outputs": [
    {
     "output_type": "stream",
     "name": "stdout",
     "text": [
      "Data are selected between 1/17/2020 and 9/9/2020\n"
     ]
    }
   ],
   "metadata": {}
  },
  {
   "cell_type": "code",
   "execution_count": 9,
   "source": [
    "# spot check the data\n",
    "\n",
    "dfa.iloc[5,1]"
   ],
   "outputs": [
    {
     "output_type": "execute_result",
     "data": {
      "text/plain": [
       "'The COVID-19 pandemic has afflicted most countries on the planet. As a result, immunity against SARS-CoV-2, induced via natural infections or imminent vaccinations, is expected to develop in a large fraction of the global population. Here, we propose to exploit SARS-CoV-2-specific CD8(+) T cells for cancer immunotherapy strategies.'"
      ]
     },
     "metadata": {},
     "execution_count": 9
    }
   ],
   "metadata": {}
  },
  {
   "cell_type": "markdown",
   "source": [
    "### 2.2.  Removing non_alphabetic characters"
   ],
   "metadata": {}
  },
  {
   "cell_type": "code",
   "execution_count": 104,
   "source": [
    "#heck two letter owrds\n",
    "\n",
    "dfa.abstract.apply(lambda x: ' '.join([w for w in x.split() if len(w)<=2]))[:10]"
   ],
   "outputs": [
    {
     "output_type": "execute_result",
     "data": {
      "text/plain": [
       "0    a is up to is a as of to a of we be of It be t...\n",
       "1    as a to to of A of to in in to be be by of of ...\n",
       "2    an of in of an of in is to to a by as to of in...\n",
       "3    to as in of in of of In to of in of is on is t...\n",
       "4    of We to of of In we in of 10 to 10 on to to o...\n",
       "5                     on As a or is to in a of we to T\n",
       "6    to of or of of We or of to of of a 8 to of up ...\n",
       "7    is an by 2 in in to of in a of is of in a in o...\n",
       "8    is by of in is a it a 13 by an in a of or in is a\n",
       "9    of a of in a as a in of of to is is an to we o...\n",
       "Name: abstract, dtype: object"
      ]
     },
     "metadata": {},
     "execution_count": 104
    }
   ],
   "metadata": {}
  },
  {
   "cell_type": "code",
   "execution_count": 105,
   "source": [
    "# remove any non-alphabetic characters and words with 1 or 2 characters.  \n",
    "\n",
    "dfw = dfa.copy()\n",
    "dfw['abstract'] = dfa.abstract.str.replace(r'[^A-Za-z ]+', ' ')\n",
    "\n",
    "# change to lower case and remove stopwords\n",
    "dfw['abstract'] = dfw.abstract.apply(lambda x: ' '.join([w.lower().strip() for w in x.split() if (w.lower() not in stopwords) & (len(w)>2)]))\n",
    "dfw.head(2)"
   ],
   "outputs": [
    {
     "output_type": "execute_result",
     "data": {
      "text/plain": [
       "       pmid                                           abstract        date\n",
       "0  32410266  coronavirus disease covid become major global ...   5/16/2020\n",
       "1  33052950  paper uses resilience lens analyse disasters m...  10/15/2020"
      ],
      "text/html": [
       "<div>\n",
       "<style scoped>\n",
       "    .dataframe tbody tr th:only-of-type {\n",
       "        vertical-align: middle;\n",
       "    }\n",
       "\n",
       "    .dataframe tbody tr th {\n",
       "        vertical-align: top;\n",
       "    }\n",
       "\n",
       "    .dataframe thead th {\n",
       "        text-align: right;\n",
       "    }\n",
       "</style>\n",
       "<table border=\"1\" class=\"dataframe\">\n",
       "  <thead>\n",
       "    <tr style=\"text-align: right;\">\n",
       "      <th></th>\n",
       "      <th>pmid</th>\n",
       "      <th>abstract</th>\n",
       "      <th>date</th>\n",
       "    </tr>\n",
       "  </thead>\n",
       "  <tbody>\n",
       "    <tr>\n",
       "      <th>0</th>\n",
       "      <td>32410266</td>\n",
       "      <td>coronavirus disease covid become major global ...</td>\n",
       "      <td>5/16/2020</td>\n",
       "    </tr>\n",
       "    <tr>\n",
       "      <th>1</th>\n",
       "      <td>33052950</td>\n",
       "      <td>paper uses resilience lens analyse disasters m...</td>\n",
       "      <td>10/15/2020</td>\n",
       "    </tr>\n",
       "  </tbody>\n",
       "</table>\n",
       "</div>"
      ]
     },
     "metadata": {},
     "execution_count": 105
    }
   ],
   "metadata": {}
  },
  {
   "cell_type": "markdown",
   "source": [
    "### 2.3. Lemmatization"
   ],
   "metadata": {}
  },
  {
   "cell_type": "code",
   "execution_count": 107,
   "source": [
    "# perform lemmtization on abstracts\n",
    "\n",
    "w_tokenizer = nltk.tokenize.WhitespaceTokenizer()\n",
    "lemmatizer = nltk.stem.WordNetLemmatizer()\n",
    "\n",
    "def lemmatize_text(text):\n",
    "    return [lemmatizer.lemmatize(w) for w in w_tokenizer.tokenize(text)]\n",
    "\n",
    "dfw['lem_abs'] = dfw.abstract.apply(lemmatize_text)\n",
    "dfw.head(3)\n"
   ],
   "outputs": [
    {
     "output_type": "execute_result",
     "data": {
      "text/plain": [
       "       pmid                                           abstract        date  \\\n",
       "0  32410266  coronavirus disease covid become major global ...   5/16/2020   \n",
       "1  33052950  paper uses resilience lens analyse disasters m...  10/15/2020   \n",
       "2  32589531  pulmonary embolism remains important cause mor...   6/27/2020   \n",
       "\n",
       "                                             lem_abs  \n",
       "0  [coronavirus, disease, covid, become, major, g...  \n",
       "1  [paper, us, resilience, lens, analyse, disaste...  \n",
       "2  [pulmonary, embolism, remains, important, caus...  "
      ],
      "text/html": [
       "<div>\n",
       "<style scoped>\n",
       "    .dataframe tbody tr th:only-of-type {\n",
       "        vertical-align: middle;\n",
       "    }\n",
       "\n",
       "    .dataframe tbody tr th {\n",
       "        vertical-align: top;\n",
       "    }\n",
       "\n",
       "    .dataframe thead th {\n",
       "        text-align: right;\n",
       "    }\n",
       "</style>\n",
       "<table border=\"1\" class=\"dataframe\">\n",
       "  <thead>\n",
       "    <tr style=\"text-align: right;\">\n",
       "      <th></th>\n",
       "      <th>pmid</th>\n",
       "      <th>abstract</th>\n",
       "      <th>date</th>\n",
       "      <th>lem_abs</th>\n",
       "    </tr>\n",
       "  </thead>\n",
       "  <tbody>\n",
       "    <tr>\n",
       "      <th>0</th>\n",
       "      <td>32410266</td>\n",
       "      <td>coronavirus disease covid become major global ...</td>\n",
       "      <td>5/16/2020</td>\n",
       "      <td>[coronavirus, disease, covid, become, major, g...</td>\n",
       "    </tr>\n",
       "    <tr>\n",
       "      <th>1</th>\n",
       "      <td>33052950</td>\n",
       "      <td>paper uses resilience lens analyse disasters m...</td>\n",
       "      <td>10/15/2020</td>\n",
       "      <td>[paper, us, resilience, lens, analyse, disaste...</td>\n",
       "    </tr>\n",
       "    <tr>\n",
       "      <th>2</th>\n",
       "      <td>32589531</td>\n",
       "      <td>pulmonary embolism remains important cause mor...</td>\n",
       "      <td>6/27/2020</td>\n",
       "      <td>[pulmonary, embolism, remains, important, caus...</td>\n",
       "    </tr>\n",
       "  </tbody>\n",
       "</table>\n",
       "</div>"
      ]
     },
     "metadata": {},
     "execution_count": 107
    }
   ],
   "metadata": {}
  },
  {
   "cell_type": "markdown",
   "source": [
    "### 2.4. Determine average length of abstracts"
   ],
   "metadata": {}
  },
  {
   "cell_type": "code",
   "execution_count": 110,
   "source": [
    "dfw['wc'] = dfw.lem_abs.apply(lambda x: len(x))\n",
    "dfw.head(3)"
   ],
   "outputs": [
    {
     "output_type": "execute_result",
     "data": {
      "text/plain": [
       "       pmid                                           abstract        date  \\\n",
       "0  32410266  coronavirus disease covid become major global ...   5/16/2020   \n",
       "1  33052950  paper uses resilience lens analyse disasters m...  10/15/2020   \n",
       "2  32589531  pulmonary embolism remains important cause mor...   6/27/2020   \n",
       "\n",
       "                                             lem_abs   wc  \n",
       "0  [coronavirus, disease, covid, become, major, g...  121  \n",
       "1  [paper, us, resilience, lens, analyse, disaste...   79  \n",
       "2  [pulmonary, embolism, remains, important, caus...  107  "
      ],
      "text/html": [
       "<div>\n",
       "<style scoped>\n",
       "    .dataframe tbody tr th:only-of-type {\n",
       "        vertical-align: middle;\n",
       "    }\n",
       "\n",
       "    .dataframe tbody tr th {\n",
       "        vertical-align: top;\n",
       "    }\n",
       "\n",
       "    .dataframe thead th {\n",
       "        text-align: right;\n",
       "    }\n",
       "</style>\n",
       "<table border=\"1\" class=\"dataframe\">\n",
       "  <thead>\n",
       "    <tr style=\"text-align: right;\">\n",
       "      <th></th>\n",
       "      <th>pmid</th>\n",
       "      <th>abstract</th>\n",
       "      <th>date</th>\n",
       "      <th>lem_abs</th>\n",
       "      <th>wc</th>\n",
       "    </tr>\n",
       "  </thead>\n",
       "  <tbody>\n",
       "    <tr>\n",
       "      <th>0</th>\n",
       "      <td>32410266</td>\n",
       "      <td>coronavirus disease covid become major global ...</td>\n",
       "      <td>5/16/2020</td>\n",
       "      <td>[coronavirus, disease, covid, become, major, g...</td>\n",
       "      <td>121</td>\n",
       "    </tr>\n",
       "    <tr>\n",
       "      <th>1</th>\n",
       "      <td>33052950</td>\n",
       "      <td>paper uses resilience lens analyse disasters m...</td>\n",
       "      <td>10/15/2020</td>\n",
       "      <td>[paper, us, resilience, lens, analyse, disaste...</td>\n",
       "      <td>79</td>\n",
       "    </tr>\n",
       "    <tr>\n",
       "      <th>2</th>\n",
       "      <td>32589531</td>\n",
       "      <td>pulmonary embolism remains important cause mor...</td>\n",
       "      <td>6/27/2020</td>\n",
       "      <td>[pulmonary, embolism, remains, important, caus...</td>\n",
       "      <td>107</td>\n",
       "    </tr>\n",
       "  </tbody>\n",
       "</table>\n",
       "</div>"
      ]
     },
     "metadata": {},
     "execution_count": 110
    }
   ],
   "metadata": {}
  },
  {
   "cell_type": "code",
   "execution_count": 111,
   "source": [
    "print(f'Average words in cleaned records is {int(dfw.wc.mean())} words.')"
   ],
   "outputs": [
    {
     "output_type": "stream",
     "name": "stdout",
     "text": [
      "Average words in cleaned records is 121 words.\n"
     ]
    }
   ],
   "metadata": {}
  },
  {
   "cell_type": "markdown",
   "source": [
    "### <b>3.  Top words analysis"
   ],
   "metadata": {}
  },
  {
   "cell_type": "code",
   "execution_count": 115,
   "source": [
    "# generate a collection of words from all the abstracts\n",
    "\n",
    "allwords = dfw['lem_abs'].tolist()\n",
    "\n",
    "# flatten the list\n",
    "allwords = [item for sublist in allwords for item in sublist]\n",
    "print(f'There are {len(allwords)} total words in all abstracts')"
   ],
   "outputs": [
    {
     "output_type": "stream",
     "name": "stdout",
     "text": [
      "There are 5617655 total words in all abstracts\n"
     ]
    }
   ],
   "metadata": {}
  },
  {
   "cell_type": "code",
   "execution_count": 116,
   "source": [
    "# save dfw\n",
    "\n",
    "filename = 'dfw'\n",
    "outfile = open(filename,'wb')\n",
    "pickle.dump(dfw, outfile)\n",
    "outfile.close()"
   ],
   "outputs": [],
   "metadata": {}
  },
  {
   "cell_type": "code",
   "execution_count": 3,
   "source": [
    "# read in dfw\n",
    "filename = 'dfw'\n",
    "infile = open(filename,'rb')\n",
    "dfw = pickle.load(infile)\n",
    "infile.close()"
   ],
   "outputs": [],
   "metadata": {}
  },
  {
   "cell_type": "code",
   "execution_count": 117,
   "source": [
    "# generate wordbag from all the abstracts\n",
    "\n",
    "allwords = dfw['lem_abs'].tolist()\n",
    "\n",
    "# flatten the list\n",
    "allwords = [item for sublist in allwords for item in sublist]\n",
    "print(f'There are {len(allwords)} total words in all abstracts')"
   ],
   "outputs": [
    {
     "output_type": "stream",
     "name": "stdout",
     "text": [
      "There are 5617655 total words in all abstracts\n"
     ]
    }
   ],
   "metadata": {}
  },
  {
   "cell_type": "code",
   "execution_count": 5,
   "source": [
    "# word frequency counts\n",
    "\n",
    "word_freq = nltk.FreqDist(allwords)\n",
    "dff = pd.DataFrame(list(word_freq.items()), columns = ['word','freq']) \n",
    "dff = dff.sort_values(by='freq', ascending=False).reset_index()\n",
    "dff.head(3)"
   ],
   "outputs": [
    {
     "output_type": "execute_result",
     "data": {
      "text/plain": [
       "   index     word    freq\n",
       "0      2    covid  134299\n",
       "1     13  patient   92331\n",
       "2     65      cov   46408"
      ],
      "text/html": [
       "<div>\n",
       "<style scoped>\n",
       "    .dataframe tbody tr th:only-of-type {\n",
       "        vertical-align: middle;\n",
       "    }\n",
       "\n",
       "    .dataframe tbody tr th {\n",
       "        vertical-align: top;\n",
       "    }\n",
       "\n",
       "    .dataframe thead th {\n",
       "        text-align: right;\n",
       "    }\n",
       "</style>\n",
       "<table border=\"1\" class=\"dataframe\">\n",
       "  <thead>\n",
       "    <tr style=\"text-align: right;\">\n",
       "      <th></th>\n",
       "      <th>index</th>\n",
       "      <th>word</th>\n",
       "      <th>freq</th>\n",
       "    </tr>\n",
       "  </thead>\n",
       "  <tbody>\n",
       "    <tr>\n",
       "      <th>0</th>\n",
       "      <td>2</td>\n",
       "      <td>covid</td>\n",
       "      <td>134299</td>\n",
       "    </tr>\n",
       "    <tr>\n",
       "      <th>1</th>\n",
       "      <td>13</td>\n",
       "      <td>patient</td>\n",
       "      <td>92331</td>\n",
       "    </tr>\n",
       "    <tr>\n",
       "      <th>2</th>\n",
       "      <td>65</td>\n",
       "      <td>cov</td>\n",
       "      <td>46408</td>\n",
       "    </tr>\n",
       "  </tbody>\n",
       "</table>\n",
       "</div>"
      ]
     },
     "metadata": {},
     "execution_count": 5
    }
   ],
   "metadata": {}
  },
  {
   "cell_type": "code",
   "execution_count": 91,
   "source": [
    "dff.describe()"
   ],
   "outputs": [
    {
     "output_type": "execute_result",
     "data": {
      "text/plain": [
       "              index           freq\n",
       "count  58171.000000   58171.000000\n",
       "mean   29085.000000      96.367073\n",
       "std    16792.665591    1033.164030\n",
       "min        0.000000       1.000000\n",
       "25%    14542.500000       1.000000\n",
       "50%    29085.000000       3.000000\n",
       "75%    43627.500000      11.000000\n",
       "max    58170.000000  134282.000000"
      ],
      "text/html": [
       "<div>\n",
       "<style scoped>\n",
       "    .dataframe tbody tr th:only-of-type {\n",
       "        vertical-align: middle;\n",
       "    }\n",
       "\n",
       "    .dataframe tbody tr th {\n",
       "        vertical-align: top;\n",
       "    }\n",
       "\n",
       "    .dataframe thead th {\n",
       "        text-align: right;\n",
       "    }\n",
       "</style>\n",
       "<table border=\"1\" class=\"dataframe\">\n",
       "  <thead>\n",
       "    <tr style=\"text-align: right;\">\n",
       "      <th></th>\n",
       "      <th>index</th>\n",
       "      <th>freq</th>\n",
       "    </tr>\n",
       "  </thead>\n",
       "  <tbody>\n",
       "    <tr>\n",
       "      <th>count</th>\n",
       "      <td>58171.000000</td>\n",
       "      <td>58171.000000</td>\n",
       "    </tr>\n",
       "    <tr>\n",
       "      <th>mean</th>\n",
       "      <td>29085.000000</td>\n",
       "      <td>96.367073</td>\n",
       "    </tr>\n",
       "    <tr>\n",
       "      <th>std</th>\n",
       "      <td>16792.665591</td>\n",
       "      <td>1033.164030</td>\n",
       "    </tr>\n",
       "    <tr>\n",
       "      <th>min</th>\n",
       "      <td>0.000000</td>\n",
       "      <td>1.000000</td>\n",
       "    </tr>\n",
       "    <tr>\n",
       "      <th>25%</th>\n",
       "      <td>14542.500000</td>\n",
       "      <td>1.000000</td>\n",
       "    </tr>\n",
       "    <tr>\n",
       "      <th>50%</th>\n",
       "      <td>29085.000000</td>\n",
       "      <td>3.000000</td>\n",
       "    </tr>\n",
       "    <tr>\n",
       "      <th>75%</th>\n",
       "      <td>43627.500000</td>\n",
       "      <td>11.000000</td>\n",
       "    </tr>\n",
       "    <tr>\n",
       "      <th>max</th>\n",
       "      <td>58170.000000</td>\n",
       "      <td>134282.000000</td>\n",
       "    </tr>\n",
       "  </tbody>\n",
       "</table>\n",
       "</div>"
      ]
     },
     "metadata": {},
     "execution_count": 91
    }
   ],
   "metadata": {}
  },
  {
   "cell_type": "code",
   "execution_count": 92,
   "source": [
    "# plot frequency of the top 50 words that appeared more than 11 times\n",
    "\n",
    "plt.figure(figsize=(15, 2)) \n",
    "plt.plot(dff[dff.freq > 11].word[:50], dff[dff.freq > 11].freq[:50])\n",
    "plt.xticks(rotation=90);"
   ],
   "outputs": [
    {
     "output_type": "display_data",
     "data": {
      "text/plain": [
       "<Figure size 1080x144 with 1 Axes>"
      ],
      "image/png": "[encoded data removed]"
     },
     "metadata": {
      "needs_background": "light"
     }
    }
   ],
   "metadata": {}
  },
  {
   "cell_type": "code",
   "execution_count": 93,
   "source": [
    "# plot frequency of the top 50-100 words that appeared more than 11 times\n",
    "\n",
    "plt.figure(figsize=(15, 2)) \n",
    "plt.plot(dff[dff.freq > 11].word[50:100], dff[dff.freq > 11].freq[50:100])\n",
    "plt.xticks(rotation=90);"
   ],
   "outputs": [
    {
     "output_type": "display_data",
     "data": {
      "text/plain": [
       "<Figure size 1080x144 with 1 Axes>"
      ],
      "image/png": "[encoded data removed]"
     },
     "metadata": {
      "needs_background": "light"
     }
    }
   ],
   "metadata": {}
  },
  {
   "cell_type": "code",
   "execution_count": 94,
   "source": [
    "# plot frequency of the top 100 - 150 words that appeared more than 11 times\n",
    "\n",
    "plt.figure(figsize=(15, 2)) \n",
    "plt.plot(dff[dff.freq > 11].word[100:150], dff[dff.freq > 11].freq[100:150])\n",
    "plt.xticks(rotation=90);"
   ],
   "outputs": [
    {
     "output_type": "display_data",
     "data": {
      "text/plain": [
       "<Figure size 1080x144 with 1 Axes>"
      ],
      "image/png": "[encoded data removed]"
     },
     "metadata": {
      "needs_background": "light"
     }
    }
   ],
   "metadata": {}
  },
  {
   "cell_type": "code",
   "execution_count": 97,
   "source": [
    "# generate word cloud\n",
    "\n",
    "word100 = ' '.join(dff[dff.freq > 11].word[:100])\n",
    "word200 = ' '.join(dff[dff.freq > 11].word[100:200])\n",
    "wc100 = WordCloud(width = 300, height = 200,background_color ='white', stopwords = stopwords, min_font_size = 8).generate(word100)\n",
    "wc200 = WordCloud(width = 300, height = 200,background_color ='white', stopwords = stopwords, min_font_size = 8).generate(word200)\n",
    "\n",
    "plt.figure(figsize = (15, 5), facecolor = None)\n",
    "ax1 = plt.subplot(1,2,1)\n",
    "ax1.imshow(wc100)\n",
    "ax1.axis(\"off\")\n",
    "ax1.set_title(\"Top 100 words\")\n",
    "\n",
    "ax2 = plt.subplot(1,2,2)\n",
    "ax2.imshow(wc200)\n",
    "ax2.axis(\"off\")\n",
    "ax2.set_title(\"Top 100-200 words\")"
   ],
   "outputs": [
    {
     "output_type": "execute_result",
     "data": {
      "text/plain": [
       "Text(0.5, 1.0, 'Top 100-200 words')"
      ]
     },
     "metadata": {},
     "execution_count": 97
    },
    {
     "output_type": "display_data",
     "data": {
      "text/plain": [
       "<Figure size 1080x360 with 2 Axes>"
      ],
      "image/png": "[encoded data removed]"
     },
     "metadata": {
      "needs_background": "light"
     }
    }
   ],
   "metadata": {}
  },
  {
   "cell_type": "code",
   "execution_count": 98,
   "source": [
    "print(f'About {dff[dff.freq  == 1].shape[0]} words that only appeared once.')\n",
    "print(dff[dff.freq  == 1].word[:50].tolist())"
   ],
   "outputs": [
    {
     "output_type": "stream",
     "name": "stdout",
     "text": [
      "About 21525 words that only appeared once.\n",
      "['unenviable', 'icgs', 'syncitiotrophoblast', 'ethylbenzothiazoline', 'aromatase', 'remade', 'uruguaiana', 'counterweight', 'rhetorically', 'seguira', 'colddamp', 'zigong', 'sculpting', 'bioscientific', 'insig', 'preadmet', 'hacat', 'peumoniae', 'barriflow', 'umap', 'canoas', 'supranational', 'gblocks', 'tbars', 'phenalene', 'proximally', 'bargiggia', 'tyagi', 'leuko', 'cohens', 'finalisation', 'bansal', 'psychometrics', 'runx', 'reimpose', 'apoc', 'keratinocyte', 'nonophthalmology', 'percussive', 'supercomputer', 'abts', 'pyretics', 'nonocclusive', 'circuiting', 'ponseti', 'maroni', 'woscc', 'retromer', 'tratamento', 'vpis']\n"
     ]
    }
   ],
   "metadata": {}
  },
  {
   "cell_type": "markdown",
   "source": [
    "<b> Summary\n",
    "\n",
    "\n",
    "1. 50% of the words were used at least 3 times while 25% words were used at least 12 times and another 25% words were used only once.  \n",
    "2. based on the top words, clinical observation of patieents, the course and the spread of infetion are likely the major topics covered by the abstracts.  \n",
    "\n",
    "3. I was hoping to get info on mechanistic studies.  But it cannot determined bebased on the top words.  \n",
    "\n",
    "4. The above analysis indicateds that it is not feasible to get a whole picture of the literature based only on words used.\n",
    "\n"
   ],
   "metadata": {}
  },
  {
   "cell_type": "markdown",
   "source": [
    "### <b>4. Label prediction uisng train, test and valid data sets"
   ],
   "metadata": {}
  },
  {
   "cell_type": "code",
   "execution_count": 26,
   "source": [
    "# select pmid, abstracts, label and date2 columns for each subdatasets provided by pubmed and clean data then randomly select 5000 records\n",
    "\n",
    "df_train = df1[['pmid','abstract', 'label','date2']]\n",
    "df_train = df_train.dropna()\n",
    "# remove unusable abstracts (50 is an arbitory nubmer based on visual inspection)\n",
    "df_train = df_train[df_train.abstract.apply(lambda x: len(x) >= 50)]\n",
    "df_train.columns = ['pmid','abstract', 'label','date']\n",
    "df_train['abstract'] = df_train.abstract.str.replace(r'[^A-Za-z ]+.', ' ')\n",
    "df_train['abstract'] = df_train.abstract.apply(lambda x: ' '.join([word.lower() for word in x.split() if (word.lower() not in stopwords) and (len(word)>2)]))\n",
    "print(df_train[['abstract', 'label']].head(2))\n",
    "\n",
    "df_test = df2[['pmid','abstract', 'label','date2']]\n",
    "df_test = df_test.dropna()\n",
    "df_test = df_test[df_test.abstract.apply(lambda x: len(x) >= 50)]\n",
    "df_test.columns = ['pmid','abstract', 'label','date']\n",
    "df_test['abstract'] = df_test.abstract.str.replace(r'[^A-Za-z ]+.', ' ')\n",
    "df_test['abstract'] = df_test.abstract.apply(lambda x: ' '.join([word.lower() for word in x.split() if (word.lower() not in stopwords) and (len(word)>2)]))\n",
    "print(df_test[['abstract', 'label']].head(2))\n",
    "\n",
    "df_valid = df3[['pmid','abstract', 'label','date2']]\n",
    "df_valid = df_valid.dropna()\n",
    "df_valid = df_valid[df_valid.abstract.apply(lambda x: len(x) >= 50)]\n",
    "df_valid.columns = ['pmid','abstract', 'label','date']\n",
    "df_valid['abstract'] = df_valid.abstract.str.replace(r'[^A-Za-z ]+.', ' ')\n",
    "df_valid['abstract'] = df_valid.abstract.apply(lambda x: ' '.join([word.lower() for word in x.split() if (word.lower() not in stopwords) and (len(word)>2)]))\n",
    "print(df_valid[['abstract', 'label']].head(2))\n"
   ],
   "outputs": [
    {
     "output_type": "stream",
     "name": "stdout",
     "text": [
      "                                            abstract                label\n",
      "0  coronavirus disease ovid become major global p...  Treatment;Mechanism\n",
      "2  pulmonary embolism remains important cause mor...           Prevention\n",
      "                                            abstract       label\n",
      "0  companion animals pets helpful novel coronavir...  Prevention\n",
      "1  background coronavirus disease ovid outbreak p...  Prevention\n",
      "                                            abstract  \\\n",
      "0  starting december world faced unprecedented he...   \n",
      "1  since covid spread world becoming pandemic ill...   \n",
      "\n",
      "                           label  \n",
      "0                     Prevention  \n",
      "1  Treatment;Mechanism;Diagnosis  \n"
     ]
    }
   ],
   "metadata": {}
  },
  {
   "cell_type": "code",
   "execution_count": 27,
   "source": [
    "print('df_train.shape: ', df_train.shape)\n",
    "print('df_test.shape: ', df_test.shape)\n",
    "print('df_valid.shape: ', df_valid.shape)"
   ],
   "outputs": [
    {
     "output_type": "stream",
     "name": "stdout",
     "text": [
      "df_train.shape:  (26046, 4)\n",
      "df_test.shape:  (6806, 4)\n",
      "df_valid.shape:  (5422, 4)\n"
     ]
    }
   ],
   "metadata": {}
  },
  {
   "cell_type": "markdown",
   "source": [
    "### 2. Label prediction"
   ],
   "metadata": {}
  },
  {
   "cell_type": "code",
   "execution_count": 28,
   "source": [
    "# create a word bag from all abstracts in the train data set\n",
    "\n",
    "a_bag = df_train['abstract'].tolist()\n",
    "a_bag[5]\n"
   ],
   "outputs": [
    {
     "output_type": "execute_result",
     "data": {
      "text/plain": [
       "'coronavirus disease ovid acute respiratory viral infection caused severe acute respiratory syndrome coronavirus ars disease outbreak started china late december quickly spread rest world resulting pandemic incidence cases increasing every day affecting millions people around globe resulting public health emergency furthermore disease management challenging clinicians medical personnel terms treatment options availability personal protective equipment abel use drugs hydroxychloroquine emergency use authorization remdesivir hopefully help clinicians treating critically ill patients use convalescent serum also shown interim benefit definitive treatment preventive options uncovered vaccines effective treatment regimens.'"
      ]
     },
     "metadata": {},
     "execution_count": 28
    }
   ],
   "metadata": {}
  },
  {
   "cell_type": "code",
   "execution_count": 55,
   "source": [
    "# Vectorize data for the train, test and valid data sets privided by pubmed\n",
    "# using bigrams since it was difficult to extract information from single words\n",
    "\n",
    "vectorizer = CountVectorizer(ngram_range=(1,2))\n",
    "x_train = vectorizer.fit_transform(a_bag)\n",
    "y_train = df_train['label']\n",
    "print('train: ', x_train.shape, y_train.shape)\n",
    "\n",
    "t_bag = df_test['abstract'].tolist()\n",
    "x_test = vectorizer.fit_transform(t_bag)\n",
    "print('test: ', x_test.shape)\n",
    "\n",
    "v_bag = df_test['abstract'].tolist()\n",
    "x_valid = vectorizer.fit_transform(v_bag)\n",
    "print('valid: ', x_valid.shape)"
   ],
   "outputs": [
    {
     "output_type": "stream",
     "name": "stdout",
     "text": [
      "train:  (26046, 1393205) (26046,)\n",
      "test:  (6806, 482356)\n",
      "valid:  (6806, 482356)\n"
     ]
    }
   ],
   "metadata": {
    "tags": []
   }
  },
  {
   "cell_type": "code",
   "execution_count": 30,
   "source": [
    "x_train1 = x_train[:, :482356]"
   ],
   "outputs": [],
   "metadata": {}
  },
  {
   "cell_type": "markdown",
   "source": [
    "### <b>4.1 predict labels using the Support Vector Classification of support vector machine (SVM)</b>\n",
    "https://towardsdatascience.com/multiclass-classification-with-support-vector-machines-svm-kernel-trick-kernel-functions-f9d5377d6f02"
   ],
   "metadata": {}
  },
  {
   "cell_type": "code",
   "execution_count": 109,
   "source": [
    "from sklearn import svm\n",
    "\n",
    "clf = svm.SVC()\n",
    "clf.fit(x_train1, y_train)"
   ],
   "outputs": [
    {
     "output_type": "execute_result",
     "data": {
      "text/plain": [
       "SVC()"
      ]
     },
     "metadata": {},
     "execution_count": 109
    }
   ],
   "metadata": {}
  },
  {
   "cell_type": "code",
   "execution_count": null,
   "source": [
    "# save model\n",
    "\n",
    "filename = 'svc_model'\n",
    "outfile = open(filename,'wb')\n",
    "pickle.dump(clf, outfile)\n",
    "outfile.close()"
   ],
   "outputs": [],
   "metadata": {}
  },
  {
   "cell_type": "code",
   "execution_count": 77,
   "source": [
    "# read in the model\n",
    "\n",
    "filename = 'svc_model'\n",
    "infile = open(filename,'rb')\n",
    "clf = pickle.load(infile)\n",
    "infile.close()"
   ],
   "outputs": [],
   "metadata": {}
  },
  {
   "cell_type": "code",
   "execution_count": 78,
   "source": [
    "# predict labels for the test set\n",
    "\n",
    "pred_t = clf.predict(x_test)\n",
    "print(len(pred_t))\n",
    "test_label = df_test['label'].tolist()\n",
    "print(len(test_label))\n"
   ],
   "outputs": [
    {
     "output_type": "stream",
     "name": "stdout",
     "text": [
      "6806\n",
      "6806\n"
     ]
    }
   ],
   "metadata": {}
  },
  {
   "cell_type": "code",
   "execution_count": 79,
   "source": [
    "# save model\n",
    "\n",
    "filename = 'pred_t'\n",
    "outfile = open(filename,'wb')\n",
    "pickle.dump(clf, outfile)\n",
    "outfile.close()"
   ],
   "outputs": [],
   "metadata": {}
  },
  {
   "cell_type": "code",
   "execution_count": 80,
   "source": [
    "# save model\n",
    "\n",
    "filename = 'pred_t'\n",
    "outfile = open(filename,'wb')\n",
    "pickle.dump(clf, outfile)\n",
    "outfile.close()"
   ],
   "outputs": [],
   "metadata": {}
  },
  {
   "cell_type": "code",
   "execution_count": 89,
   "source": [
    "check_t = []\n",
    "for i in range(len(test_label)):\n",
    "    common = set(test_label[i].split(';')) & set(pred_t[i].split(';'))\n",
    "    if len(list(common)) > 0:\n",
    "        check_t.append(common)\n",
    "print(f'The model correctly predicted about {round(len(check_t)/len(pred_t)*100, 2)}% labels in the valid set.')"
   ],
   "outputs": [
    {
     "output_type": "stream",
     "name": "stdout",
     "text": [
      "The model correctly predicted about 44.92% labels in the valid set.\n"
     ]
    }
   ],
   "metadata": {}
  },
  {
   "cell_type": "code",
   "execution_count": 119,
   "source": [
    "# prediction using the valid data set\n",
    "\n",
    "pred_v = clf.predict(x_valid)\n",
    "valid_label = df_valid['label'].tolist()"
   ],
   "outputs": [],
   "metadata": {}
  },
  {
   "cell_type": "code",
   "execution_count": 115,
   "source": [
    "# evaluate the prediction for the valid data set\n",
    "\n",
    "zipped_v = list(zip(valid_label, pred_v))\n",
    "check_v = len([x for x in zipped_v if x[1] in x[0]])\n",
    "print(f'The model correctly predicted about {round(check_v/len(pred_v)*100, 2)}% labels in the valid set.')"
   ],
   "outputs": [
    {
     "output_type": "stream",
     "name": "stdout",
     "text": [
      "The model correctly predicted about 35.0% labels in the valid set.\n"
     ]
    }
   ],
   "metadata": {}
  },
  {
   "cell_type": "code",
   "execution_count": 120,
   "source": [
    "# unique predicted labels\n",
    " \n",
    "print(set(pred_t))\n",
    "print(set(pred_v))"
   ],
   "outputs": [
    {
     "output_type": "stream",
     "name": "stdout",
     "text": [
      "{'Prevention'}\n",
      "{'Prevention'}\n"
     ]
    }
   ],
   "metadata": {}
  },
  {
   "cell_type": "code",
   "execution_count": 131,
   "source": [
    "# unique labels in test set\n",
    "\n",
    "ls = [x.split(';') for x in test_label]\n",
    "print(set([x for y in ls for x in y ]))"
   ],
   "outputs": [
    {
     "output_type": "stream",
     "name": "stdout",
     "text": [
      "{'General Info', 'Epidemic Forecasting', 'Treatment', 'Mechanism', 'Case Report', 'Diagnosis', 'Prevention', 'Transmission'}\n"
     ]
    }
   ],
   "metadata": {}
  },
  {
   "cell_type": "markdown",
   "source": [
    "<b> Sumamry: </b>There is only one predcted lable 'prevention'.  The model is very biased.  "
   ],
   "metadata": {}
  },
  {
   "cell_type": "markdown",
   "source": [
    "### <b>4.2 Predict labels using Naive Bayes"
   ],
   "metadata": {}
  },
  {
   "cell_type": "code",
   "execution_count": 56,
   "source": [
    "from sklearn.naive_bayes import MultinomialNB\n",
    "clf = MultinomialNB()\n",
    "clf.fit(x_train1,y_train)"
   ],
   "outputs": [
    {
     "output_type": "execute_result",
     "data": {
      "text/plain": [
       "MultinomialNB()"
      ]
     },
     "metadata": {},
     "execution_count": 56
    }
   ],
   "metadata": {}
  },
  {
   "cell_type": "code",
   "execution_count": 58,
   "source": [
    "# save model\n",
    "\n",
    "filename = 'nb_model'\n",
    "outfile = open(filename,'wb')\n",
    "pickle.dump(clf, outfile)\n",
    "outfile.close()"
   ],
   "outputs": [],
   "metadata": {}
  },
  {
   "cell_type": "code",
   "execution_count": null,
   "source": [
    "# read in the model\n",
    "\n",
    "filename = 'nb_model'\n",
    "infile = open(filename,'rb')\n",
    "clf = pickle.load(infile)\n",
    "infile.close()"
   ],
   "outputs": [],
   "metadata": {}
  },
  {
   "cell_type": "code",
   "execution_count": 65,
   "source": [
    "pred_nb = clf.predict(x_test)\n",
    "print(pred_nb[:5])"
   ],
   "outputs": [
    {
     "output_type": "stream",
     "name": "stdout",
     "text": [
      "['General Info' 'Treatment;Mechanism;Diagnosis' 'Mechanism;Transmission'\n",
      " 'Epidemic Forecasting;Prevention' 'Treatment;Prevention;Diagnosis']\n"
     ]
    }
   ],
   "metadata": {}
  },
  {
   "cell_type": "code",
   "execution_count": 66,
   "source": [
    "test_label = df_test['label'].tolist()\n",
    "print(test_label[:5])"
   ],
   "outputs": [
    {
     "output_type": "stream",
     "name": "stdout",
     "text": [
      "['Prevention', 'Prevention', 'Prevention', 'Treatment', 'Diagnosis;Treatment']\n"
     ]
    }
   ],
   "metadata": {}
  },
  {
   "cell_type": "code",
   "execution_count": 72,
   "source": [
    "test_label = df_test['label'].tolist()\n",
    "print(len(pred_nb))\n",
    "print(len(test_label))"
   ],
   "outputs": [
    {
     "output_type": "stream",
     "name": "stdout",
     "text": [
      "6806\n",
      "6806\n"
     ]
    }
   ],
   "metadata": {}
  },
  {
   "cell_type": "code",
   "execution_count": 73,
   "source": [
    "check_nb = []\n",
    "for i in range(len(test_label)):\n",
    "    common = set(test_label[i].split(';')) & set(pred_nb[i].split(';'))\n",
    "    if len(list(common)) >0:\n",
    "        check_nb.append(common)\n",
    "\n",
    "print(f'The model correctly predicted about {round(len(check_nb)/len(pred_nb)*100, 2)}% labels in the test set.')"
   ],
   "outputs": [
    {
     "output_type": "stream",
     "name": "stdout",
     "text": [
      "The model correctly predicted about 35.34% labels in the test set.\n"
     ]
    }
   ],
   "metadata": {}
  },
  {
   "cell_type": "code",
   "execution_count": 124,
   "source": [
    "# predict label for valid data set\n",
    "\n",
    "pred_nbv = clf.predict(x_valid)\n",
    "print(pred_nbv[:5])"
   ],
   "outputs": [
    {
     "output_type": "stream",
     "name": "stdout",
     "text": [
      "['Prevention' 'Prevention' 'Prevention' 'Prevention' 'Prevention']\n"
     ]
    }
   ],
   "metadata": {}
  },
  {
   "cell_type": "code",
   "execution_count": 130,
   "source": [
    "valid_label = df_valid['label'].tolist()\n",
    "print(valid_label[:5])"
   ],
   "outputs": [
    {
     "output_type": "stream",
     "name": "stdout",
     "text": [
      "['Prevention', 'Treatment;Mechanism;Diagnosis', 'Diagnosis', 'Prevention', 'Prevention']\n"
     ]
    }
   ],
   "metadata": {}
  },
  {
   "cell_type": "code",
   "execution_count": 127,
   "source": [
    "check_nbv = []\n",
    "for i in range(len(valid_label)):\n",
    "    common = set(valid_label[i].split(';')) & set(pred_nbv[i].split(';'))\n",
    "    if len(list(common)) > 0:\n",
    "        check_nbv.append(common)\n",
    "\n",
    "print(f'The model correctly predicted about {round(len(check_nbv)/len(pred_nbv)*100, 2)}% labels in the valid set.')"
   ],
   "outputs": [
    {
     "output_type": "stream",
     "name": "stdout",
     "text": [
      "The model correctly predicted about 35.0% labels in the valid set.\n"
     ]
    }
   ],
   "metadata": {}
  },
  {
   "cell_type": "markdown",
   "source": [
    "### <b>5. Topic Modeling using Latent Dirichlet Allocation "
   ],
   "metadata": {}
  },
  {
   "cell_type": "code",
   "execution_count": 6,
   "source": [
    "# read in dfw\n",
    "\n",
    "filename = 'dfw'\n",
    "infile = open(filename,'rb')\n",
    "dfw = pickle.load(infile)\n",
    "infile.close()"
   ],
   "outputs": [],
   "metadata": {}
  },
  {
   "cell_type": "code",
   "execution_count": 7,
   "source": [
    "# create vocabulary of all the words, include words that appear in less than 80% of the document \n",
    "# and appear in at least 2 documents.  https://stackabuse.com/python-for-nlp-topic-modeling\n",
    "\n",
    "count_vect = CountVectorizer(max_df=0.8, min_df=2, stop_words='english')\n",
    "doc_term_matrix = count_vect.fit_transform(dfw['abstract'].values.astype('U'))\n",
    "doc_term_matrix"
   ],
   "outputs": [
    {
     "output_type": "execute_result",
     "data": {
      "text/plain": [
       "<46151x34977 sparse matrix of type '<class 'numpy.int64'>'\n",
       "\twith 3754990 stored elements in Compressed Sparse Row format>"
      ]
     },
     "metadata": {},
     "execution_count": 7
    }
   ],
   "metadata": {}
  },
  {
   "cell_type": "markdown",
   "source": [
    "<b>5.1.   Using LDA model to analyze 8 topics"
   ],
   "metadata": {}
  },
  {
   "cell_type": "code",
   "execution_count": 20,
   "source": [
    "LDA_8t = LatentDirichletAllocation(n_components=8, random_state=42)\n",
    "LDA_8t.fit(doc_term_matrix)"
   ],
   "outputs": [
    {
     "output_type": "execute_result",
     "data": {
      "text/plain": [
       "LatentDirichletAllocation(n_components=8, random_state=42)"
      ]
     },
     "metadata": {},
     "execution_count": 20
    }
   ],
   "metadata": {}
  },
  {
   "cell_type": "code",
   "execution_count": 26,
   "source": [
    "# save model\n",
    "\n",
    "filename = 'lda_8t'\n",
    "outfile = open(filename,'wb')\n",
    "pickle.dump(LDA_8t, outfile)\n",
    "outfile.close()"
   ],
   "outputs": [],
   "metadata": {}
  },
  {
   "cell_type": "code",
   "execution_count": 91,
   "source": [
    "# read in LDA\n",
    "\n",
    "filename = 'lda_8t'\n",
    "infile = open(filename,'rb')\n",
    "LDA_8t = pickle.load(infile)\n",
    "infile.close()"
   ],
   "outputs": [],
   "metadata": {}
  },
  {
   "cell_type": "code",
   "execution_count": 136,
   "source": [
    "# find words with the highest probability for the first topic\n",
    "\n",
    "first_topic = LDA_8t.components_[0]\n",
    "top_words  = [count_vect.get_feature_names()[w] for w in first_topic.argsort()[-10:]]\n",
    "print(f'Top words for topic #0 of 8:')\n",
    "print(top_words)"
   ],
   "outputs": [
    {
     "output_type": "stream",
     "name": "stdout",
     "text": [
      "Top words for topic #0 of 8:\n",
      "['vaccine', 'drug', 'drugs', 'human', 'protein', 'viral', 'coronavirus', 'virus', 'sars', 'cov']\n"
     ]
    }
   ],
   "metadata": {}
  },
  {
   "cell_type": "code",
   "execution_count": 92,
   "source": [
    "# save top words with highest probabilities for 8 topics.\n",
    "\n",
    "top_ls8t = []\n",
    "for i,topic in enumerate(LDA_8t.components_):\n",
    "    top_words = sorted([count_vect.get_feature_names()[w] for w in topic.argsort()[-10:]])\n",
    "    top_ls8t.append(top_words)"
   ],
   "outputs": [],
   "metadata": {}
  },
  {
   "cell_type": "code",
   "execution_count": 42,
   "source": [
    "# print top word lists for all the topics\n",
    "\n",
    "for item in top_ls8t:\n",
    "    print(item)"
   ],
   "outputs": [
    {
     "output_type": "stream",
     "name": "stdout",
     "text": [
      "['coronavirus', 'cov', 'drug', 'drugs', 'human', 'protein', 'sars', 'vaccine', 'viral', 'virus']\n",
      "['cases', 'clinical', 'coronavirus', 'disease', 'patients', 'pneumonia', 'results', 'severe', 'studies', 'study']\n",
      "['cases', 'china', 'countries', 'data', 'disease', 'epidemic', 'health', 'model', 'number', 'spread']\n",
      "['anxiety', 'health', 'mental', 'pandemic', 'participants', 'psychological', 'results', 'social', 'study', 'survey']\n",
      "['coronavirus', 'cov', 'disease', 'infection', 'patients', 'positive', 'respiratory', 'sars', 'severe', 'syndrome']\n",
      "['age', 'cancer', 'care', 'disease', 'hospital', 'mortality', 'patients', 'results', 'risk', 'study']\n",
      "['care', 'coronavirus', 'disease', 'health', 'healthcare', 'management', 'medical', 'pandemic', 'public', 'research']\n",
      "['acute', 'coronavirus', 'cov', 'disease', 'immune', 'infection', 'patients', 'respiratory', 'sars', 'severe']\n"
     ]
    }
   ],
   "metadata": {}
  },
  {
   "cell_type": "code",
   "execution_count": 137,
   "source": [
    "# unique labels in the original data set\n",
    "\n",
    "label = df.label.dropna()\n",
    "label.head()"
   ],
   "outputs": [
    {
     "output_type": "execute_result",
     "data": {
      "text/plain": [
       "0    Treatment;Mechanism\n",
       "2             Prevention\n",
       "4    Treatment;Diagnosis\n",
       "5    Treatment;Mechanism\n",
       "6    Treatment;Diagnosis\n",
       "Name: label, dtype: object"
      ]
     },
     "metadata": {},
     "execution_count": 137
    }
   ],
   "metadata": {}
  },
  {
   "cell_type": "code",
   "execution_count": 139,
   "source": [
    "# unique labels in df\n",
    "\n",
    "ul = [x.split(';') for x in label]\n",
    "print(set([x for y in ul for x in y ]))"
   ],
   "outputs": [
    {
     "output_type": "stream",
     "name": "stdout",
     "text": [
      "{'General Info', 'Epidemic Forecasting', 'Treatment', 'Mechanism', 'Case Report', 'Diagnosis', 'Prevention', 'Transmission'}\n"
     ]
    }
   ],
   "metadata": {}
  },
  {
   "cell_type": "code",
   "execution_count": 164,
   "source": [
    "# longest label in df\n",
    "\n",
    "ll = [x.split(';') for x in label]\n",
    "max_len = -1\n",
    "for x in ll:\n",
    "    if len(x) > max_len:\n",
    "        max_len = len(x)\n",
    "        res = '; '.join(x)\n",
    "print(f'Maximum length label is \"{res}\"')"
   ],
   "outputs": [
    {
     "output_type": "stream",
     "name": "stdout",
     "text": [
      "Maximum length label is \"Transmission; Prevention; Mechanism; Treatment; Diagnosis\"\n"
     ]
    }
   ],
   "metadata": {}
  },
  {
   "cell_type": "code",
   "execution_count": 170,
   "source": [
    "# find most used label\n",
    "\n",
    "ls = [x for y in ll for x in y]\n",
    "\n",
    "# word frequency counts\n",
    "word_freq = nltk.FreqDist(ls)\n",
    "dfl = pd.DataFrame(list(word_freq.items()), columns = ['label','freq']) \n",
    "dfl = dfl.sort_values(by='freq', ascending=False).reset_index()\n",
    "dfl\n"
   ],
   "outputs": [
    {
     "output_type": "execute_result",
     "data": {
      "text/plain": [
       "   index                 label   freq\n",
       "0      2            Prevention  24191\n",
       "1      0             Treatment  16999\n",
       "2      3             Diagnosis  11969\n",
       "3      1             Mechanism   8195\n",
       "4      5           Case Report   4474\n",
       "5      4          Transmission   2047\n",
       "6      7          General Info   1738\n",
       "7      6  Epidemic Forecasting   1026"
      ],
      "text/html": [
       "<div>\n",
       "<style scoped>\n",
       "    .dataframe tbody tr th:only-of-type {\n",
       "        vertical-align: middle;\n",
       "    }\n",
       "\n",
       "    .dataframe tbody tr th {\n",
       "        vertical-align: top;\n",
       "    }\n",
       "\n",
       "    .dataframe thead th {\n",
       "        text-align: right;\n",
       "    }\n",
       "</style>\n",
       "<table border=\"1\" class=\"dataframe\">\n",
       "  <thead>\n",
       "    <tr style=\"text-align: right;\">\n",
       "      <th></th>\n",
       "      <th>index</th>\n",
       "      <th>label</th>\n",
       "      <th>freq</th>\n",
       "    </tr>\n",
       "  </thead>\n",
       "  <tbody>\n",
       "    <tr>\n",
       "      <th>0</th>\n",
       "      <td>2</td>\n",
       "      <td>Prevention</td>\n",
       "      <td>24191</td>\n",
       "    </tr>\n",
       "    <tr>\n",
       "      <th>1</th>\n",
       "      <td>0</td>\n",
       "      <td>Treatment</td>\n",
       "      <td>16999</td>\n",
       "    </tr>\n",
       "    <tr>\n",
       "      <th>2</th>\n",
       "      <td>3</td>\n",
       "      <td>Diagnosis</td>\n",
       "      <td>11969</td>\n",
       "    </tr>\n",
       "    <tr>\n",
       "      <th>3</th>\n",
       "      <td>1</td>\n",
       "      <td>Mechanism</td>\n",
       "      <td>8195</td>\n",
       "    </tr>\n",
       "    <tr>\n",
       "      <th>4</th>\n",
       "      <td>5</td>\n",
       "      <td>Case Report</td>\n",
       "      <td>4474</td>\n",
       "    </tr>\n",
       "    <tr>\n",
       "      <th>5</th>\n",
       "      <td>4</td>\n",
       "      <td>Transmission</td>\n",
       "      <td>2047</td>\n",
       "    </tr>\n",
       "    <tr>\n",
       "      <th>6</th>\n",
       "      <td>7</td>\n",
       "      <td>General Info</td>\n",
       "      <td>1738</td>\n",
       "    </tr>\n",
       "    <tr>\n",
       "      <th>7</th>\n",
       "      <td>6</td>\n",
       "      <td>Epidemic Forecasting</td>\n",
       "      <td>1026</td>\n",
       "    </tr>\n",
       "  </tbody>\n",
       "</table>\n",
       "</div>"
      ]
     },
     "metadata": {},
     "execution_count": 170
    }
   ],
   "metadata": {}
  },
  {
   "cell_type": "code",
   "execution_count": 180,
   "source": [
    "print(f'\"Prevention\" accounts for {round(dfl.iloc[0,2]/dfl.freq.sum()*100, 2)}% of all labels used.')"
   ],
   "outputs": [
    {
     "output_type": "stream",
     "name": "stdout",
     "text": [
      "\"Prevention\" accounts for 34.25% of all labels used.\n"
     ]
    }
   ],
   "metadata": {}
  },
  {
   "cell_type": "markdown",
   "source": [
    "<b>5.2.   Using LDA model to analyze 15 topics"
   ],
   "metadata": {}
  },
  {
   "cell_type": "code",
   "execution_count": 59,
   "source": [
    "# creating LDA model for 15 topics\n",
    "\n",
    "LDA_15t = LatentDirichletAllocation(n_components=15, random_state=42)\n",
    "LDA_15t.fit(doc_term_matrix)\n",
    "\n",
    "# save model\n",
    "filename = 'lda_15t'\n",
    "outfile = open(filename,'wb')\n",
    "pickle.dump(LDA_15t, outfile)\n",
    "outfile.close()"
   ],
   "outputs": [
    {
     "output_type": "execute_result",
     "data": {
      "text/plain": [
       "LatentDirichletAllocation(n_components=15, random_state=42)"
      ]
     },
     "metadata": {},
     "execution_count": 59
    }
   ],
   "metadata": {}
  },
  {
   "cell_type": "code",
   "execution_count": 93,
   "source": [
    "# read in LDA\n",
    "\n",
    "filename = 'lda_15t'\n",
    "infile = open(filename,'rb')\n",
    "LDA_15t = pickle.load(infile)\n",
    "infile.close()"
   ],
   "outputs": [],
   "metadata": {}
  },
  {
   "cell_type": "code",
   "execution_count": 94,
   "source": [
    "#  save top words with highest probabilities for 15 topics.\n",
    "\n",
    "top_ls15t = []\n",
    "for i,topic in enumerate(LDA_15t.components_):\n",
    "    top_words = sorted([count_vect.get_feature_names()[w] for w in topic.argsort()[-10:]])\n",
    "    top_ls15t.append(top_words)"
   ],
   "outputs": [],
   "metadata": {}
  },
  {
   "cell_type": "code",
   "execution_count": 45,
   "source": [
    "# print top word lists for the 15 topics\n",
    "\n",
    "for item in top_ls15t:\n",
    "    print(item)"
   ],
   "outputs": [
    {
     "output_type": "stream",
     "name": "stdout",
     "text": [
      "['binding', 'coronavirus', 'cov', 'drug', 'drugs', 'human', 'protein', 'sars', 'viral', 'virus']\n",
      "['cases', 'chest', 'clinical', 'coronavirus', 'disease', 'findings', 'lung', 'patients', 'pneumonia', 'severe']\n",
      "['cases', 'china', 'countries', 'data', 'disease', 'epidemic', 'model', 'number', 'spread', 'transmission']\n",
      "['anxiety', 'health', 'mental', 'pandemic', 'participants', 'psychological', 'results', 'social', 'study', 'survey']\n",
      "['acute', 'coronavirus', 'cov', 'disease', 'infection', 'patients', 'respiratory', 'sars', 'severe', 'syndrome']\n",
      "['clinical', 'days', 'group', 'hospital', 'median', 'mortality', 'patients', 'severe', 'study', 'treatment']\n",
      "['countries', 'disease', 'economic', 'food', 'global', 'health', 'pandemic', 'people', 'public', 'vaccine']\n",
      "['ace', 'cell', 'cells', 'cov', 'disease', 'immune', 'infection', 'inflammatory', 'sars', 'severe']\n",
      "['cancer', 'care', 'disease', 'health', 'management', 'pandemic', 'patient', 'patients', 'surgery', 'surgical']\n",
      "['care', 'clinical', 'health', 'medical', 'pandemic', 'patient', 'services', 'telemedicine', 'training', 'use']\n",
      "['analysis', 'children', 'data', 'evidence', 'included', 'pregnant', 'results', 'review', 'studies', 'women']\n",
      "['cov', 'detection', 'negative', 'pcr', 'positive', 'results', 'samples', 'sars', 'test', 'testing']\n",
      "['equipment', 'infection', 'masks', 'personal', 'ppe', 'protective', 'risk', 'transmission', 'use', 'workers']\n",
      "['age', 'associated', 'compared', 'diabetes', 'disease', 'hospital', 'mortality', 'patients', 'risk', 'study']\n",
      "['article', 'crisis', 'health', 'new', 'pandemic', 'paper', 'public', 'research', 'social', 'work']\n"
     ]
    }
   ],
   "metadata": {}
  },
  {
   "cell_type": "markdown",
   "source": [
    "### <b> 6. Recommending/selecting papers using top words  </b>"
   ],
   "metadata": {}
  },
  {
   "cell_type": "code",
   "execution_count": 46,
   "source": [
    "# count abstracts contain 90% of the top words for each of the 8 topics\n",
    "\n",
    "dfs8t = {}\n",
    "for i,ls in enumerate(top_ls8t):\n",
    "    dfs8t[i] = dfw[dfw.lem_abs.apply(lambda x: len(list(set(x) & set(top_ls8t[i]))) >= len(top_ls8t[i])*0.9)]\n",
    "    print(f'There are {dfs8t[i].shape[0]} records contain more than 90% top words in topic {i} of 8')"
   ],
   "outputs": [
    {
     "output_type": "stream",
     "name": "stdout",
     "text": [
      "There are 26 records contain more than 90% top words in topic 0 of 8\n",
      "There are 0 records contain more than 90% top words in topic 1 of 8\n",
      "There are 0 records contain more than 90% top words in topic 2 of 8\n",
      "There are 0 records contain more than 90% top words in topic 3 of 8\n",
      "There are 578 records contain more than 90% top words in topic 4 of 8\n",
      "There are 0 records contain more than 90% top words in topic 5 of 8\n",
      "There are 14 records contain more than 90% top words in topic 6 of 8\n",
      "There are 553 records contain more than 90% top words in topic 7 of 8\n"
     ]
    }
   ],
   "metadata": {}
  },
  {
   "cell_type": "code",
   "execution_count": 47,
   "source": [
    "# count abstracts contain 90% of the top 10 words for each of the 15 topics\n",
    "\n",
    "dfs15t = {}\n",
    "for i,ls in enumerate(top_ls15t):\n",
    "    dfs15t[i] = dfw[dfw.lem_abs.apply(lambda x: len(list(set(x) & set(top_ls15t[i]))) >= len(top_ls15t[i])*0.9)]\n",
    "    print(f'There are {dfs15t[i].shape[0]} records contain more than 90% top words in topic {i} of 15')"
   ],
   "outputs": [
    {
     "output_type": "stream",
     "name": "stdout",
     "text": [
      "There are 27 records contain more than 90% top words in topic 0 of 15\n",
      "There are 0 records contain more than 90% top words in topic 1 of 15\n",
      "There are 0 records contain more than 90% top words in topic 2 of 15\n",
      "There are 0 records contain more than 90% top words in topic 3 of 15\n",
      "There are 3030 records contain more than 90% top words in topic 4 of 15\n",
      "There are 0 records contain more than 90% top words in topic 5 of 15\n",
      "There are 0 records contain more than 90% top words in topic 6 of 15\n",
      "There are 30 records contain more than 90% top words in topic 7 of 15\n",
      "There are 7 records contain more than 90% top words in topic 8 of 15\n",
      "There are 2 records contain more than 90% top words in topic 9 of 15\n",
      "There are 0 records contain more than 90% top words in topic 10 of 15\n",
      "There are 0 records contain more than 90% top words in topic 11 of 15\n",
      "There are 0 records contain more than 90% top words in topic 12 of 15\n",
      "There are 21 records contain more than 90% top words in topic 13 of 15\n",
      "There are 2 records contain more than 90% top words in topic 14 of 15\n"
     ]
    }
   ],
   "metadata": {}
  },
  {
   "cell_type": "code",
   "execution_count": 30,
   "source": [
    "# Topic #4 was discussed in the highest number of records in both sets using 8 or 15 topics\n",
    "\n",
    "print('topic words in topic #4 of 8 topics: ')\n",
    "print(sorted(top_ls8t[4]))\n",
    "print('topic words in topic #4 of 15 topics: ')\n",
    "print(sorted(top_ls15t[4]))"
   ],
   "outputs": [
    {
     "output_type": "stream",
     "name": "stdout",
     "text": [
      "topic words in topic #4 of 8 topics: \n",
      "['coronavirus', 'cov', 'disease', 'infection', 'patients', 'positive', 'respiratory', 'sars', 'severe', 'syndrome']\n",
      "topic words in topic #4 of 15 topics: \n",
      "['acute', 'coronavirus', 'cov', 'disease', 'infection', 'patients', 'respiratory', 'sars', 'severe', 'syndrome']\n"
     ]
    }
   ],
   "metadata": {}
  },
  {
   "cell_type": "code",
   "execution_count": 36,
   "source": [
    "print(f'Top ten words in topic#4 is {len(list(set(top_ls15t[4]) & set(top_ls8t[4])))/len(set(top_ls8t[4]))*100}% identical in both sets')"
   ],
   "outputs": [
    {
     "output_type": "stream",
     "name": "stdout",
     "text": [
      "Top ten words in topic#4 is 90.0% identical in both sets\n"
     ]
    }
   ],
   "metadata": {}
  },
  {
   "cell_type": "code",
   "execution_count": 98,
   "source": [
    "# Shown top ten words in topic #7, which is discussed in the second highest number of records in both sets\n",
    "\n",
    "print('topic words in topic #7 of 8 topics: ')\n",
    "print(sorted(top_ls8t[7]))\n",
    "print('topic words in topic #7 of 15 topics: ')\n",
    "print(sorted(top_ls15t[7]))\n",
    "print()\n",
    "print(f'Top ten words in topic#7 is {len(list(set(top_ls15t[7]) & set(top_ls8t[7])))/len(set(top_ls8t[7]))*100}% identical in both sets')"
   ],
   "outputs": [
    {
     "output_type": "stream",
     "name": "stdout",
     "text": [
      "topic words in topic #7 of 8 topics: \n",
      "['acute', 'coronavirus', 'cov', 'disease', 'immune', 'infection', 'patients', 'respiratory', 'sars', 'severe']\n",
      "topic words in topic #7 of 15 topics: \n",
      "['ace', 'cell', 'cells', 'cov', 'disease', 'immune', 'infection', 'inflammatory', 'sars', 'severe']\n",
      "\n",
      "Top ten words in topic#7 is 60.0% identical in both sets\n"
     ]
    }
   ],
   "metadata": {}
  },
  {
   "cell_type": "markdown",
   "source": [
    "It appears that top topics when usig 8 topics or 15 topics are very similar.  8 topics is likely sufficient for the topic analysis."
   ],
   "metadata": {}
  },
  {
   "cell_type": "code",
   "execution_count": 37,
   "source": [
    "# find top ten papers that cover topic#4 of 8 topics\n",
    "\n",
    "print('Top ten papers cover topic #4 of 8 topics: ')\n",
    "print(dfs8t[4][['pmid', 'abstract', 'date']].head(10))"
   ],
   "outputs": [
    {
     "output_type": "stream",
     "name": "stdout",
     "text": [
      "Top ten papers cover topic #4 of 8 topics: \n",
      "         pmid                                           abstract       date\n",
      "28   32726441  background severe acute respiratory syndrome c...  7/30/2020\n",
      "86   32461325  background anosmia dysgeusia reported potentia...  5/29/2020\n",
      "97   32656172  background outbreak severe acute respiratory s...  7/14/2020\n",
      "146  32776022  background novel coronavirus disease covid cau...  8/11/2020\n",
      "207  32584236  novel coronavirus pandemic poses major global ...  6/26/2020\n",
      "219  32617223  coronavirus disease covid highly infectious di...   7/4/2020\n",
      "244  32730827  background studies explored air surface contam...  7/31/2020\n",
      "250  32370924  coronavirus disease covid pandemic caused seve...   5/7/2020\n",
      "295  32368850  severe acute respiratory syndrome coronavirus ...   5/6/2020\n",
      "379  33017040  ongoing pandemic coronavirus disease covid cau...  10/6/2020\n"
     ]
    }
   ],
   "metadata": {}
  },
  {
   "cell_type": "markdown",
   "source": [
    "<b>Summary</b>\n",
    "\n",
    "1. In this study, I imported csv files from pubmed that contains the dumped data for 2019-2020.  Three types of analysis were performed to get some insight on covid literature.\n",
    "<br/><br/>\n",
    "2. The first attempt was to examine the top words in the whole data set to see what insights one might be able to infer from the data.  I found that one can get a sense of what was discussed based on top words.  But, there is limit to get indepth information based on top words.\n",
    "<br/><br/>\n",
    "3. Next I took the advange of train test and validate data sets that have prelabels for the type of study for the abstract.  I tranied a SVC and predicted the labels for the test and validation data sets.  The labels in the train set has one or more labels.  The model was able to make about 44% correct predictions if one consider as long as the predicted label is one of the words in the set, it is a correct prediction. <br/><br/> \n",
    "\n",
    "4. A detailed examination of the result shown that only one label was predicted by the model, which accounts for about 35% of all labels in the original data set.  <br/><br/>\n",
    "\n",
    "5. Next, I did prediction using Naive Bayes classifier to perform label prediction.  The overall correct prediction is less than 40%.    <br/><br/>\n",
    "\n",
    "6. Thirdly, I performed topic modeling using Latent Dirichlet Allocation (LDA) method.  Since the original data sets has eight differnt labels, I first performed the analysis using 8 topics.  Then also tried 15 topics.  Based on the top ten words for the mostly discussed topic, I concluded that 8 topics is sufficient for teasing out the difference in topics.  Based on this analysis, it is possible to pick out papers that disccuss certain topics.  "
   ],
   "metadata": {}
  },
  {
   "cell_type": "code",
   "execution_count": null,
   "source": [],
   "outputs": [],
   "metadata": {}
  }
 ]
}